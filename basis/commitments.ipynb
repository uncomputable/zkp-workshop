{
 "cells": [
  {
   "cell_type": "markdown",
   "id": "b2a4a05c",
   "metadata": {},
   "source": [
    "# Commitments\n",
    "\n",
    "In this chapter we look at cryptographic commitments.\n",
    "\n",
    "This primitive is used basically all interactive proofs because it is so useful."
   ]
  },
  {
   "cell_type": "markdown",
   "id": "69f553c6",
   "metadata": {},
   "source": [
    "# TL;DR\n",
    "\n",
    "A commitment is an encrypted value. The creator of the commitment can decrypt (\"open\") the commitment.\n",
    "\n",
    "The commitment does not reveal anything about its contained value (hiding property).\n",
    "\n",
    "The commitment can only be opened to the value that was originally encrypted (binding property).\n",
    "\n",
    "Usually Peggy makes a large number of commitments and sends them to Victor. These commitments cover all possible cases of the statement to be proved. Victor randomly chooses a case. Peggy responds by opening a small number of corresponding commitments.\n",
    "\n",
    "Because of the setup, Peggy has to be able to respond to all possible cases. If Peggy cannot respond to one case, then Victor might choose that one. Because of the commitments, Peggy cannot undo what she sent and Victor will expose her lying.\n",
    "\n",
    "This saves bandwidth because only one case out of all possible cases is sent over the wire."
   ]
  },
  {
   "cell_type": "markdown",
   "id": "ad4ba007",
   "metadata": {},
   "source": [
    "# Jupyter setup\n",
    "\n",
    "Run the following snippet to set up your jupyter notebook for the workshop."
   ]
  },
  {
   "cell_type": "code",
   "execution_count": null,
   "id": "f95a0ea6",
   "metadata": {},
   "outputs": [],
   "source": [
    "import sys\n",
    "\n",
    "# Add project root so we can import local modules\n",
    "root_dir = sys.path.append(\"..\")\n",
    "sys.path.append(root_dir)\n",
    "\n",
    "# Import here so cells don't depend on each other\n",
    "from typing import List, Tuple\n",
    "from local.ec.util import Opening\n",
    "from local.ec.static import Scalar, CurvePoint, ONE_POINT\n",
    "import random"
   ]
  },
  {
   "cell_type": "markdown",
   "id": "639daa5d",
   "metadata": {},
   "source": [
    "# Pedersen commitments (attempt)\n",
    "\n",
    "Pedersen commitments enable us to commit to scalar values on an elliptic curve.\n",
    "\n",
    "The maximum amount of information inside a value depends on the size of the curve.\n",
    "\n",
    "We commit to the scalar $v$ by creating the curve point $\\text{Com}(v) = G * v$.\n",
    "\n",
    "Because the discrete logarithm is hard, it is impossible to extract $v$ from $\\text{Com}(v)$."
   ]
  },
  {
   "cell_type": "code",
   "execution_count": null,
   "id": "c1a0e09e",
   "metadata": {},
   "outputs": [],
   "source": [
    "def pedersen_attempt(v: Scalar) -> CurvePoint:\n",
    "    return ONE_POINT * v\n",
    "\n",
    "v = Scalar.random()\n",
    "c1 = pedersen_attempt(v)\n",
    "print(f\"Commitment {c1}      opens to value {v}\")\n",
    "\n",
    "c2 = pedersen_attempt(v)\n",
    "print(f\"Commitment {c2} also opens to value {v}\")"
   ]
  },
  {
   "cell_type": "markdown",
   "id": "6cc46ef1",
   "metadata": {},
   "source": [
    "# Pedersen commitment (hiding)\n",
    "\n",
    "There is a problem: Committing to the same value yields the same commitment. This reveals something about the contained value!\n",
    "\n",
    "As a fix, we introduce a **random blinding factor** $r$.\n",
    "\n",
    "To commit to the scalar $v$, we create the curve point $\\text{Com}(v, r) = G * v + H * r$ where $r$ is random.\n",
    "\n",
    "$H$ is a curve point that is known by all parties.\n",
    "\n",
    "This resulting Pedersen commitment is **hiding**."
   ]
  },
  {
   "cell_type": "code",
   "execution_count": null,
   "id": "61726a31",
   "metadata": {},
   "outputs": [],
   "source": [
    "h = Scalar(2)\n",
    "H = ONE_POINT * h\n",
    "\n",
    "def pedersen_hiding(v: Scalar) -> CurvePoint:\n",
    "    r = Scalar.random()\n",
    "    return ONE_POINT * v + H * r\n",
    "\n",
    "v = Scalar.random()\n",
    "c1 = pedersen_hiding(v)\n",
    "print(f\"Commitment {c1}      opens to value {v}\")\n",
    "\n",
    "c2 = pedersen_hiding(v)\n",
    "print(f\"Commitment {c2} also opens to value {v}\")"
   ]
  },
  {
   "cell_type": "markdown",
   "id": "6de487a5",
   "metadata": {},
   "source": [
    "# Hashing onto the curve\n",
    "\n",
    "We can create curve points with random xy coordinate:\n",
    "\n",
    "1. Generate random xy\n",
    "2. Return point if curve equation is satisfied\n",
    "3. Goto 1. otherwise\n",
    "\n",
    "This is called **hashing onto the curve** because the random xy coordinates come from hash functions.\n",
    "\n",
    "The resulting point $H$ is interesting because it is a **random point with unknown discrete logarithm!**\n",
    "\n",
    "From our viewpoint, $H$ is independent from the one-point $G$. **No one knows** any linear relation between $G$ and $H$.\n",
    "\n",
    "# Alternative one-points\n",
    "\n",
    "Think of $H$ as a one-point in \"another language\".\n",
    "\n",
    "We can iterate over the entire curve using $H$, but the order of points is completely different than for $G$.\n",
    "\n",
    "We can iterate: $G * 1 = (4, 2)$, $G * 2 = (3, 3)$, $G * 3 = (1, 2)$, $\\ldots$\n",
    "\n",
    "Or we can iterate: $H * 1 = (2, 5)$, $H * 2 = (5, 4)$, $H * 3 = (4, 5)$, $\\ldots$\n",
    "\n",
    "The concrete coordinates depend on the curve and $G$ and $H$."
   ]
  },
  {
   "cell_type": "code",
   "execution_count": null,
   "id": "5943b943",
   "metadata": {},
   "outputs": [],
   "source": [
    "puncto_uno, = CurvePoint.sample_greater_one(1)\n",
    "\n",
    "print(f\"G * 1 = {ONE_POINT * Scalar(1)}, G * 2 = {ONE_POINT * Scalar(2)}, G * 3 = {ONE_POINT * Scalar(3)}, ...\")\n",
    "print(f\"H * 1 = {puncto_uno * Scalar(1)}, H * 2 = {puncto_uno * Scalar(2)}, H * 3 = {puncto_uno * Scalar(3)}, ...\")"
   ]
  },
  {
   "cell_type": "markdown",
   "id": "69931d2e",
   "metadata": {},
   "source": [
    "# Not binding\n",
    "\n",
    "There is another problem: Peggy knows the blinding factor and the discrete logarithm of $H$:\n",
    "\n",
    "$G * v + H * r = G * v + (G * h) * r$\n",
    "\n",
    "She can open the same commitment to different values!\n",
    "\n",
    "$\\text{Com}(v, r) = G * v + (G * h) * r = G * (h * r) + (G * h) * \\frac{v}{h} = \\text{Com}(rh, \\frac{v}{h})$\n",
    "\n",
    "Here, Peggy changed the commitment from $v$ to $rh$. Many other shenanigans is possible."
   ]
  },
  {
   "cell_type": "code",
   "execution_count": null,
   "id": "cd6a0b74",
   "metadata": {},
   "outputs": [],
   "source": [
    "# Rerun this a couple of times\n",
    "\n",
    "v = Scalar.random()\n",
    "r = Scalar.random()\n",
    "c1 = ONE_POINT * v + H * r\n",
    "print(f\"Commitment {c1} opens to value {v}\")\n",
    "\n",
    "hr = h * r\n",
    "vh = v / h\n",
    "c2 = ONE_POINT * hr + H * vh\n",
    "print(f\"Commitment {c2} opens to value {hr}\")\n",
    "\n",
    "assert c1 == c2"
   ]
  },
  {
   "cell_type": "markdown",
   "id": "70299aba",
   "metadata": {},
   "source": [
    "# Pedersen commitment (hiding and binding)\n",
    "\n",
    "As a fix, we require that $H$ has an **unknown discrete logarithm**.\n",
    "\n",
    "We cannot repeat our tricks from earlier.\n",
    "\n",
    "To commit to the scalar $v$, we create the curve point $\\text{Com}(v, r) = G * v + H * r$ where $r$ is random.\n",
    "\n",
    "This resulting Pedersen commitment is hiding and **binding**."
   ]
  },
  {
   "cell_type": "code",
   "execution_count": null,
   "id": "0f5f9905",
   "metadata": {},
   "outputs": [],
   "source": [
    "puncto_uno, = CurvePoint.sample_greater_one(1)\n",
    "\n",
    "def pedersen_binding(v: Scalar) -> CurvePoint:\n",
    "    r = Scalar.random()\n",
    "    return ONE_POINT * v + puncto_uno * r\n",
    "\n",
    "v = Scalar.random()\n",
    "c1 = pedersen_binding(v)\n",
    "print(f\"Commitment {c1} opens to value {v}\")\n",
    "\n",
    "c2 = pedersen_binding(v)\n",
    "print(f\"Commitment {c2} also opens to value {v}\")"
   ]
  },
  {
   "cell_type": "markdown",
   "id": "9de3ad41",
   "metadata": {},
   "source": [
    "# Pedersen commitment (multiple values)\n",
    "\n",
    "We can commit to a **list of values** by using a **list of independent one-points**: $G_0$, $G_1$, $\\ldots$, $G_n$, $H$\n",
    "\n",
    "One of these can be the normal one-point and the rest must have an unknown discrete logarithm.\n",
    "\n",
    "To commit to values $v_0$, $v_1$, $\\ldots$, $v_n$, we create the **single curve point** $\\text{Com}(v_0, v_1, \\ldots, v_n; r) = G_0 * v_0 + G_1 * v_1 + \\ldots + G_n * v_n + H * r$ where $r$ is random.\n",
    "\n",
    "Notice how the list of values is compressed inside a single curve point! The commitment is extremely space-efficient (constant size). Opening the commitment requires revealing the list of values and the blinding factor (linear size).\n",
    "\n",
    "The commitment is **hiding** because of the blinding factor.\n",
    "\n",
    "The commitment is **binding** because we don't know the linear relations between the used one-points. Peggy is forced to use the same list of values plus blinding factor to restore the sum point that is the commitment."
   ]
  },
  {
   "cell_type": "code",
   "execution_count": null,
   "id": "00049075",
   "metadata": {},
   "outputs": [],
   "source": [
    "puncto_uno, premier_point, daiichi, = CurvePoint.sample_greater_one(3)\n",
    "\n",
    "def pedersen_multiple(v0: Scalar, v1: Scalar, v2: Scalar) -> CurvePoint:\n",
    "    r = Scalar.random()\n",
    "    return ONE_POINT * r + puncto_uno * v0 + premier_point * v1 + daiichi * v2\n",
    "\n",
    "v0, v1, v2 = Scalar.random(), Scalar.random(), Scalar.random()\n",
    "c1 = pedersen_multiple(v0, v1, v2)\n",
    "print(f\"Commitment {c1}      opens to values {v0}, {v1}, {v2}\")\n",
    "\n",
    "c2 = pedersen_multiple(v0, v1, v2)\n",
    "print(f\"Commitment {c2} also opens to values {v0}, {v1}, {v2}\")"
   ]
  },
  {
   "cell_type": "code",
   "execution_count": null,
   "id": "dd33f7f5",
   "metadata": {},
   "outputs": [],
   "source": []
  }
 ],
 "metadata": {
  "kernelspec": {
   "display_name": "Python 3 (ipykernel)",
   "language": "python",
   "name": "python3"
  },
  "language_info": {
   "codemirror_mode": {
    "name": "ipython",
    "version": 3
   },
   "file_extension": ".py",
   "mimetype": "text/x-python",
   "name": "python",
   "nbconvert_exporter": "python",
   "pygments_lexer": "ipython3",
   "version": "3.10.12"
  }
 },
 "nbformat": 4,
 "nbformat_minor": 5
}
